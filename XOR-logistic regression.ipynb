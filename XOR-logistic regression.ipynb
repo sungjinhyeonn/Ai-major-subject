{
  "cells": [
    {
      "cell_type": "code",
      "execution_count": null,
      "id": "1266a632",
      "metadata": {
        "id": "1266a632"
      },
      "outputs": [],
      "source": [
        "import numpy as np\n",
        "from math import exp,log\n",
        "import random\n",
        "import matplotlib.pyplot as plt"
      ]
    },
    {
      "cell_type": "code",
      "execution_count": null,
      "id": "f4ad63d8",
      "metadata": {
        "id": "f4ad63d8"
      },
      "outputs": [],
      "source": [
        "X=np.array([(0,0),(1,0),(0,1),(1,1)])\n",
        "Y=np.array([0,1,1,0])"
      ]
    },
    {
      "cell_type": "code",
      "execution_count": null,
      "id": "3c24feb3",
      "metadata": {
        "id": "3c24feb3"
      },
      "outputs": [],
      "source": [
        "class logistic_regression_model():\n",
        "    def __init__(self):\n",
        "        self.w=np.array([random.random(),random.random()])\n",
        "        self.b=np.array(random.random())\n",
        "    def sigmoid(self,z):\n",
        "        return 1/(1+exp(-z))\n",
        "    \n",
        "    def predict(self,x):\n",
        "        z=self.w[0]*x[0]+self.w[1]*x[1]+self.b\n",
        "        a=self.sigmoid(z)\n",
        "        return a"
      ]
    },
    {
      "cell_type": "code",
      "execution_count": null,
      "id": "bc3a43a3",
      "metadata": {
        "id": "bc3a43a3"
      },
      "outputs": [],
      "source": [
        "#learning rate 모델 생성\n",
        "XOR_model_1=logistic_regression_model()\n",
        "XOR_model_2=logistic_regression_model()\n",
        "XOR_model_3=logistic_regression_model()"
      ]
    },
    {
      "cell_type": "code",
      "execution_count": null,
      "id": "fe34d77b",
      "metadata": {
        "id": "fe34d77b"
      },
      "outputs": [],
      "source": [
        "def train(X,Y,model, lr=0.1):\n",
        "    dw0=0.0\n",
        "    dw1=0.0\n",
        "    db=0.0\n",
        "    m=len(X)\n",
        "    cost=0.0\n",
        "    for x,y in zip(X,Y):\n",
        "        a=model.predict(x)\n",
        "        if y==1:\n",
        "            cost-=log(a)\n",
        "        else:\n",
        "            cost-=log(1-a)\n",
        "        \n",
        "        dw0+=(a-y)*x[0]\n",
        "        dw1+=(a-y)*x[1]\n",
        "        db+=(a-y)\n",
        "    cost/=m\n",
        "    model.w[0]-=lr*dw0/m\n",
        "    model.w[1]-=lr*dw1/m\n",
        "    model.b-=lr*db/m\n",
        "    \n",
        "    return cost"
      ]
    },
    {
      "cell_type": "code",
      "execution_count": null,
      "id": "442f976e",
      "metadata": {
        "id": "442f976e"
      },
      "outputs": [],
      "source": [
        "#loss값을 각 리스트에 추가\n",
        "XOR_loss_1=[]\n",
        "XOR_loss_2=[]\n",
        "XOR_loss_3=[]\n",
        "for epoch in range(10000):\n",
        "        #learning rate 0.1\n",
        "        XOR_loss_1.append(train(X,Y,XOR_model_1,0.1))\n",
        "        #learning rate 0.2\n",
        "        XOR_loss_2.append(train(X,Y,XOR_model_2,0.2))\n",
        "        #learning rate 0.01\n",
        "        XOR_loss_3.append(train(X,Y,XOR_model_3,0.01))\n",
        "\n",
        "#plot생성을 위해 epoch 값도 리스트로 정리\n",
        "epoch = [x for x in range(10000)]\n",
        "XOR_loss_1=np.array(XOR_loss_1)\n",
        "XOR_loss_2=np.array(XOR_loss_2)\n",
        "XOR_loss_3=np.array(XOR_loss_3)"
      ]
    },
    {
      "cell_type": "code",
      "execution_count": null,
      "id": "94928f88",
      "metadata": {
        "id": "94928f88",
        "outputId": "d2935e87-9b0e-4b59-a19b-0b1c2075ffcd"
      },
      "outputs": [
        {
          "name": "stdout",
          "output_type": "stream",
          "text": [
            "0.5\n",
            "0.5\n",
            "0.5\n",
            "0.5\n"
          ]
        }
      ],
      "source": [
        "#learning rate 0.1예측결과\n",
        "print(XOR_model_1.predict((0,0)))\n",
        "print(XOR_model_1.predict((0,1)))\n",
        "print(XOR_model_1.predict((1,0)))\n",
        "print(XOR_model_1.predict((1,1)))"
      ]
    },
    {
      "cell_type": "code",
      "execution_count": null,
      "id": "2b156c9e",
      "metadata": {
        "id": "2b156c9e",
        "outputId": "41d32324-3539-4474-8bc6-2834e38766a4"
      },
      "outputs": [
        {
          "name": "stdout",
          "output_type": "stream",
          "text": [
            "0.5\n",
            "0.5\n",
            "0.5\n",
            "0.5\n"
          ]
        }
      ],
      "source": [
        "#learning rate 0.2예측결과\n",
        "print(XOR_model_2.predict((0,0)))\n",
        "print(XOR_model_2.predict((0,1)))\n",
        "print(XOR_model_2.predict((1,0)))\n",
        "print(XOR_model_2.predict((1,1)))"
      ]
    },
    {
      "cell_type": "code",
      "execution_count": null,
      "id": "b1802852",
      "metadata": {
        "id": "b1802852",
        "outputId": "1abf65b4-ea83-4252-8299-412cb8b15815"
      },
      "outputs": [
        {
          "name": "stdout",
          "output_type": "stream",
          "text": [
            "0.49969178635249845\n",
            "0.49994880836978167\n",
            "0.49995445588230014\n",
            "0.5002114779257066\n"
          ]
        }
      ],
      "source": [
        "#learning rate 0.01예측결과\n",
        "print(XOR_model_3.predict((0,0)))\n",
        "print(XOR_model_3.predict((0,1)))\n",
        "print(XOR_model_3.predict((1,0)))\n",
        "print(XOR_model_3.predict((1,1)))"
      ]
    },
    {
      "cell_type": "code",
      "execution_count": null,
      "id": "4297a89b",
      "metadata": {
        "id": "4297a89b",
        "outputId": "70d2eeeb-c664-490f-eff8-00a67ec654b6"
      },
      "outputs": [
        {
          "data": {
            "image/png": "[encoded data removed]",
            "text/plain": [
              "<Figure size 432x288 with 1 Axes>"
            ]
          },
          "metadata": {
            "needs_background": "light"
          },
          "output_type": "display_data"
        }
      ],
      "source": [
        "#loss plot \n",
        "plt.plot(epoch,XOR_loss_1,'r-',label='lr=0.1')\n",
        "plt.plot(epoch,XOR_loss_2,'b-',label='lr=0.2')\n",
        "plt.plot(epoch,XOR_loss_3,'g-',label='lr=0.01')\n",
        "plt.xlabel('epoch')\n",
        "plt.ylabel('loss')\n",
        "plt.legend(loc='upper right')\n",
        "plt.show()"
      ]
    },
    {
      "cell_type": "code",
      "execution_count": null,
      "id": "48452bd8",
      "metadata": {
        "id": "48452bd8"
      },
      "outputs": [],
      "source": []
    }
  ],
  "metadata": {
    "kernelspec": {
      "display_name": "Python 3 (ipykernel)",
      "language": "python",
      "name": "python3"
    },
    "language_info": {
      "codemirror_mode": {
        "name": "ipython",
        "version": 3
      },
      "file_extension": ".py",
      "mimetype": "text/x-python",
      "name": "python",
      "nbconvert_exporter": "python",
      "pygments_lexer": "ipython3",
      "version": "3.7.13"
    },
    "colab": {
      "provenance": []
    }
  },
  "nbformat": 4,
  "nbformat_minor": 5
}