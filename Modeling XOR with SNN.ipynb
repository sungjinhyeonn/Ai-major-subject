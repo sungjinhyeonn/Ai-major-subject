{
  "cells": [
    {
      "cell_type": "code",
      "execution_count": null,
      "id": "f31f4c09",
      "metadata": {
        "id": "f31f4c09"
      },
      "outputs": [],
      "source": [
        "import numpy as np\n",
        "from math import exp,log\n",
        "import random\n",
        "import matplotlib.pyplot as plt"
      ]
    },
    {
      "cell_type": "code",
      "execution_count": null,
      "id": "4199c093",
      "metadata": {
        "id": "4199c093"
      },
      "outputs": [],
      "source": [
        "x_seeds=np.array([(0,0),(1,0),(0,1),(1,1)],dtype=np.float64)\n",
        "y_seeds=np.array([0,1,1,0])"
      ]
    },
    {
      "cell_type": "code",
      "execution_count": null,
      "id": "b4128813",
      "metadata": {
        "id": "b4128813"
      },
      "outputs": [],
      "source": [
        "N=1000\n",
        "idxs=np.random.randint(0,4,N)"
      ]
    },
    {
      "cell_type": "code",
      "execution_count": null,
      "id": "92549fb8",
      "metadata": {
        "id": "92549fb8"
      },
      "outputs": [],
      "source": [
        "X=x_seeds[idxs]\n",
        "Y=y_seeds[idxs]"
      ]
    },
    {
      "cell_type": "code",
      "execution_count": null,
      "id": "ecaf9277",
      "metadata": {
        "id": "ecaf9277"
      },
      "outputs": [],
      "source": [
        "X+=np.random.normal(scale=0.25,size=X.shape)"
      ]
    },
    {
      "cell_type": "code",
      "execution_count": null,
      "id": "2a47fc93",
      "metadata": {
        "id": "2a47fc93"
      },
      "outputs": [],
      "source": [
        "class shallow_neural_network():\n",
        "    def __init__(self,num_input_features,num_hiddens):\n",
        "        self.num_input_features=num_input_features\n",
        "        self.num_hiddens=num_hiddens\n",
        "        \n",
        "        #레이어 생성\n",
        "        self.W1=np.random.normal(size=(num_hiddens,num_input_features))\n",
        "        self.b1=np.random.normal(size=num_hiddens)\n",
        "        self.W2=np.random.normal(size=num_hiddens)\n",
        "        self.b2=np.random.normal(size=1)\n",
        "        \n",
        "    def sigmoid(self,z):\n",
        "        return 1/(1+np.exp(-z))\n",
        "    \n",
        "    def predict(self,x):\n",
        "        #행렬 곱을 통해 z1,z2 예측\n",
        "        z1=np.matmul(self.W1,x)+self.b1\n",
        "        a1=np.tanh(z1)\n",
        "        z2=np.matmul(self.W2,a1)+self.b2\n",
        "        a2=self.sigmoid(z2)\n",
        "        \n",
        "        return a2, (z1,a1,z2,a2)"
      ]
    },
    {
      "cell_type": "code",
      "execution_count": null,
      "id": "5762ae84",
      "metadata": {
        "id": "5762ae84"
      },
      "outputs": [],
      "source": [
        "model=shallow_neural_network(2,3)"
      ]
    },
    {
      "cell_type": "code",
      "execution_count": null,
      "id": "69432705",
      "metadata": {
        "id": "69432705"
      },
      "outputs": [],
      "source": [
        "def train(X,Y,model,lr=0.1):\n",
        "    dW1=np.zeros_like(model.W1)\n",
        "    db1=np.zeros_like(model.b1)\n",
        "    dW2=np.zeros_like(model.W2)\n",
        "    db2=np.zeros_like(model.b2)\n",
        "    m=len(X)\n",
        "    cost=0.0\n",
        "    for x,y in zip(X,Y):\n",
        "        a2, (z1,a1,z2,a2)=model.predict(x)\n",
        "        if y==1:\n",
        "            cost-=np.log(a2)\n",
        "        else:\n",
        "            cost-=np.log(1-a2)\n",
        "        diff=a2-y\n",
        "        db2+=diff\n",
        "        dW2+=diff*a1.T\n",
        "        \n",
        "        db1_tmp=diff*model.W2*(1-a1**2)\n",
        "        db1+=db1_tmp\n",
        "        dW1+=np.outer(db1_tmp,x)\n",
        "    \n",
        "    cost/=m\n",
        "    model.W1-=lr*dW1/m\n",
        "    model.b1-=lr*db1/m\n",
        "    model.W2-=lr*dW2/m\n",
        "    model.b2-=lr*db2/m\n",
        "    \n",
        "    return cost"
      ]
    },
    {
      "cell_type": "code",
      "execution_count": null,
      "id": "c36eb05c",
      "metadata": {
        "id": "c36eb05c",
        "outputId": "2127c12e-9f7f-4041-8a3e-63c150dbe5fa"
      },
      "outputs": [
        {
          "name": "stdout",
          "output_type": "stream",
          "text": [
            "0 [0.98322633]\n",
            "10 [0.5990753]\n",
            "20 [0.53177768]\n",
            "30 [0.46987543]\n",
            "40 [0.42082437]\n",
            "50 [0.38506704]\n",
            "60 [0.36000745]\n",
            "70 [0.34265808]\n",
            "80 [0.33061194]\n",
            "90 [0.3221619]\n"
          ]
        }
      ],
      "source": [
        "for epoch in range(100):\n",
        "    cost=train(X,Y,model,1.0)\n",
        "    if epoch%10==0:\n",
        "        print(epoch,cost)"
      ]
    },
    {
      "cell_type": "code",
      "execution_count": null,
      "id": "d31ac880",
      "metadata": {
        "id": "d31ac880",
        "outputId": "87add75f-87e6-4fd3-9810-a98ee0704fea"
      },
      "outputs": [
        {
          "data": {
            "text/plain": [
              "0.14970170925356283"
            ]
          },
          "execution_count": 62,
          "metadata": {},
          "output_type": "execute_result"
        }
      ],
      "source": [
        "model.predict((1,1))[0].item()"
      ]
    },
    {
      "cell_type": "code",
      "execution_count": null,
      "id": "b15b0419",
      "metadata": {
        "id": "b15b0419",
        "outputId": "3d329c75-ccd4-4ad9-94c0-e2aa58176f19"
      },
      "outputs": [
        {
          "data": {
            "text/plain": [
              "0.92832844457597"
            ]
          },
          "execution_count": 63,
          "metadata": {},
          "output_type": "execute_result"
        }
      ],
      "source": [
        "model.predict((1,0))[0].item()"
      ]
    },
    {
      "cell_type": "code",
      "execution_count": null,
      "id": "29fc72e8",
      "metadata": {
        "id": "29fc72e8",
        "outputId": "bcdecd57-6cf4-4993-d670-cddae2d8b2bc"
      },
      "outputs": [
        {
          "data": {
            "text/plain": [
              "0.9252781214873091"
            ]
          },
          "execution_count": 64,
          "metadata": {},
          "output_type": "execute_result"
        }
      ],
      "source": [
        "model.predict((0,1))[0].item()"
      ]
    },
    {
      "cell_type": "code",
      "execution_count": null,
      "id": "626e035d",
      "metadata": {
        "id": "626e035d",
        "outputId": "a0bb4d89-af53-491b-922c-a12206ffe78d"
      },
      "outputs": [
        {
          "data": {
            "text/plain": [
              "0.1270424722419096"
            ]
          },
          "execution_count": 66,
          "metadata": {},
          "output_type": "execute_result"
        }
      ],
      "source": [
        "model.predict((0,0))[0].item()"
      ]
    },
    {
      "cell_type": "code",
      "execution_count": null,
      "id": "c1b47a3e",
      "metadata": {
        "id": "c1b47a3e"
      },
      "outputs": [],
      "source": []
    }
  ],
  "metadata": {
    "kernelspec": {
      "display_name": "Python 3 (ipykernel)",
      "language": "python",
      "name": "python3"
    },
    "language_info": {
      "codemirror_mode": {
        "name": "ipython",
        "version": 3
      },
      "file_extension": ".py",
      "mimetype": "text/x-python",
      "name": "python",
      "nbconvert_exporter": "python",
      "pygments_lexer": "ipython3",
      "version": "3.7.13"
    },
    "colab": {
      "provenance": []
    }
  },
  "nbformat": 4,
  "nbformat_minor": 5
}