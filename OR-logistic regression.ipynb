{
  "cells": [
    {
      "cell_type": "code",
      "execution_count": null,
      "id": "b230a5f6",
      "metadata": {
        "id": "b230a5f6"
      },
      "outputs": [],
      "source": [
        "import numpy as np\n",
        "from math import exp,log\n",
        "import random\n",
        "import matplotlib.pyplot as plt"
      ]
    },
    {
      "cell_type": "code",
      "execution_count": null,
      "id": "e1c65059",
      "metadata": {
        "id": "e1c65059"
      },
      "outputs": [],
      "source": [
        "X=np.array([(0,0),(1,0),(0,1),(1,1)])\n",
        "Y=np.array([0,1,1,1])"
      ]
    },
    {
      "cell_type": "code",
      "execution_count": null,
      "id": "245fbc69",
      "metadata": {
        "id": "245fbc69"
      },
      "outputs": [],
      "source": [
        "#모델 생성\n",
        "class logistic_regression_model():\n",
        "    #w,b 초기화 \n",
        "    def __init__(self):\n",
        "        self.w=np.array([random.random(),random.random()])\n",
        "        self.b=np.array(random.random())\n",
        "    #시그모이드함수 생성\n",
        "    def sigmoid(self,z):\n",
        "        return 1/(1+exp(-z))\n",
        "    #예측\n",
        "    def predict(self,x):\n",
        "        z=self.w[0]*x[0]+self.w[1]*x[1]+self.b\n",
        "        a=self.sigmoid(z)\n",
        "        return a"
      ]
    },
    {
      "cell_type": "code",
      "execution_count": null,
      "id": "1d79269a",
      "metadata": {
        "id": "1d79269a"
      },
      "outputs": [],
      "source": [
        "#learning rate 모델 생성\n",
        "OR_model_1=logistic_regression_model()\n",
        "OR_model_2=logistic_regression_model()\n",
        "OR_model_3=logistic_regression_model()"
      ]
    },
    {
      "cell_type": "code",
      "execution_count": null,
      "id": "775b195a",
      "metadata": {
        "id": "775b195a"
      },
      "outputs": [],
      "source": [
        "def train(X,Y,model, lr=0.1):\n",
        "    dw0=0.0\n",
        "    dw1=0.0\n",
        "    db=0.0\n",
        "    m=len(X)\n",
        "    cost=0.0\n",
        "    for x,y in zip(X,Y):\n",
        "        a=model.predict(x)\n",
        "        if y==1:\n",
        "            cost-=log(a)\n",
        "        else:\n",
        "            cost-=log(1-a)\n",
        "        \n",
        "        dw0+=(a-y)*x[0]\n",
        "        dw1+=(a-y)*x[1]\n",
        "        db+=(a-y)\n",
        "    cost/=m\n",
        "    model.w[0]-=lr*dw0/m\n",
        "    model.w[1]-=lr*dw1/m\n",
        "    model.b-=lr*db/m\n",
        "    \n",
        "    return cost"
      ]
    },
    {
      "cell_type": "code",
      "execution_count": null,
      "id": "18230eb3",
      "metadata": {
        "id": "18230eb3"
      },
      "outputs": [],
      "source": [
        "#loss값을 각 리스트에 추가\n",
        "OR_loss_1=[]\n",
        "OR_loss_2=[]\n",
        "OR_loss_3=[]\n",
        "for epoch in range(10000):\n",
        "        #learning rate 0.1\n",
        "        OR_loss_1.append(train(X,Y,OR_model_1,0.1))\n",
        "        #learning rate 0.2\n",
        "        OR_loss_2.append(train(X,Y,OR_model_2,0.2))\n",
        "        #learning rate 0.01\n",
        "        OR_loss_3.append(train(X,Y,OR_model_3,0.01))\n",
        "\n",
        "#plot생성을 위해 epoch 값도 리스트로 정리\n",
        "epoch = [x for x in range(10000)]\n",
        "OR_loss_1=np.array(OR_loss_1)\n",
        "OR_loss_2=np.array(OR_loss_2)\n",
        "OR_loss_3=np.array(OR_loss_3)"
      ]
    },
    {
      "cell_type": "code",
      "execution_count": null,
      "id": "0c7f49b9",
      "metadata": {
        "id": "0c7f49b9",
        "outputId": "d18128d8-1091-4661-c8b9-4782b4c346de"
      },
      "outputs": [
        {
          "name": "stdout",
          "output_type": "stream",
          "text": [
            "0.020574441310714182\n",
            "0.9917822087646441\n",
            "0.9917833539119725\n",
            "0.9999985579757993\n"
          ]
        }
      ],
      "source": [
        "#learning rate 0.1로 예측한 결과\n",
        "print(OR_model_1.predict((0,0)))\n",
        "print(OR_model_1.predict((0,1)))\n",
        "print(OR_model_1.predict((1,0)))\n",
        "print(OR_model_1.predict((1,1)))"
      ]
    },
    {
      "cell_type": "code",
      "execution_count": null,
      "id": "1dae4c65",
      "metadata": {
        "id": "1dae4c65",
        "outputId": "16a977f8-207f-48db-fc16-872c18508c01"
      },
      "outputs": [
        {
          "name": "stdout",
          "output_type": "stream",
          "text": [
            "0.010164853860591471\n",
            "0.9959369814096526\n",
            "0.9959369463446487\n",
            "0.9999998290867004\n"
          ]
        }
      ],
      "source": [
        "#learning rate 0.2로 예측한 결과\n",
        "print(OR_model_2.predict((0,0)))\n",
        "print(OR_model_2.predict((0,1)))\n",
        "print(OR_model_2.predict((1,0)))\n",
        "print(OR_model_2.predict((1,1)))"
      ]
    },
    {
      "cell_type": "code",
      "execution_count": null,
      "id": "ac34b707",
      "metadata": {
        "id": "ac34b707",
        "outputId": "ba1534d7-485f-4e6e-bbc6-6fbe2e8f7d29"
      },
      "outputs": [
        {
          "name": "stdout",
          "output_type": "stream",
          "text": [
            "0.18085085873239945\n",
            "0.9305594548775534\n",
            "0.9288282038449088\n",
            "0.9987391854500348\n"
          ]
        }
      ],
      "source": [
        "#learning rate 0.01로 예측한 결과\n",
        "print(OR_model_3.predict((0,0)))\n",
        "print(OR_model_3.predict((0,1)))\n",
        "print(OR_model_3.predict((1,0)))\n",
        "print(OR_model_3.predict((1,1)))"
      ]
    },
    {
      "cell_type": "code",
      "execution_count": null,
      "id": "42dc1f5c",
      "metadata": {
        "id": "42dc1f5c",
        "outputId": "2ff21223-a798-460c-e0e5-ce6a7cfc5b26"
      },
      "outputs": [
        {
          "data": {
            "image/png": "[encoded data removed]",
            "text/plain": [
              "<Figure size 432x288 with 1 Axes>"
            ]
          },
          "metadata": {
            "needs_background": "light"
          },
          "output_type": "display_data"
        }
      ],
      "source": [
        "#loss plot \n",
        "plt.plot(epoch,OR_loss_1,'r-',label='lr=0.1')\n",
        "plt.plot(epoch,OR_loss_2,'b-',label='lr=0.2')\n",
        "plt.plot(epoch,OR_loss_3,'g-',label='lr=0.01')\n",
        "plt.xlabel('epoch')\n",
        "plt.ylabel('loss')\n",
        "plt.legend(loc='upper right')\n",
        "plt.show()"
      ]
    },
    {
      "cell_type": "code",
      "execution_count": null,
      "id": "baaa5da2",
      "metadata": {
        "id": "baaa5da2"
      },
      "outputs": [],
      "source": []
    }
  ],
  "metadata": {
    "kernelspec": {
      "display_name": "Python 3 (ipykernel)",
      "language": "python",
      "name": "python3"
    },
    "language_info": {
      "codemirror_mode": {
        "name": "ipython",
        "version": 3
      },
      "file_extension": ".py",
      "mimetype": "text/x-python",
      "name": "python",
      "nbconvert_exporter": "python",
      "pygments_lexer": "ipython3",
      "version": "3.7.13"
    },
    "colab": {
      "provenance": []
    }
  },
  "nbformat": 4,
  "nbformat_minor": 5
}