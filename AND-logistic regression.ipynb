{
  "cells": [
    {
      "cell_type": "code",
      "execution_count": null,
      "id": "b1ba1da2",
      "metadata": {
        "id": "b1ba1da2"
      },
      "outputs": [],
      "source": [
        "import numpy as np\n",
        "from math import exp,log\n",
        "import random\n",
        "import matplotlib.pyplot as plt"
      ]
    },
    {
      "cell_type": "code",
      "execution_count": null,
      "id": "29c0da4b",
      "metadata": {
        "id": "29c0da4b"
      },
      "outputs": [],
      "source": [
        "# X,Y 초기화\n",
        "# operator dataset 생성\n",
        "X=np.array([(0,0),(1,0),(0,1),(1,1)]) # 입력 데이터 생성\n",
        "Y=np.array([0,0,0,1]) #정답 데이터 생성 "
      ]
    },
    {
      "cell_type": "code",
      "execution_count": null,
      "id": "22915ac7",
      "metadata": {
        "id": "22915ac7"
      },
      "outputs": [],
      "source": [
        "#모델 생성\n",
        "class logistic_regression_model():\n",
        "    #w,b 초기화 \n",
        "    def __init__(self):\n",
        "        self.w=np.array([random.random(),random.random()])\n",
        "        self.b=np.array(random.random())\n",
        "    #0또는 1을 출력하기 위한 시그모이드함수 생성\n",
        "    def sigmoid(self,z):\n",
        "        return 1/(1+exp(-z))\n",
        "    #예측\n",
        "    def predict(self,x):\n",
        "        z=self.w[0]*x[0]+self.w[1]*x[1]+self.b\n",
        "        a=self.sigmoid(z)\n",
        "        return a"
      ]
    },
    {
      "cell_type": "code",
      "execution_count": null,
      "id": "b6f8f477",
      "metadata": {
        "id": "b6f8f477"
      },
      "outputs": [],
      "source": [
        "#learning rate 모델 생성\n",
        "AND_model_1=logistic_regression_model()\n",
        "AND_model_2=logistic_regression_model()\n",
        "AND_model_3=logistic_regression_model()"
      ]
    },
    {
      "cell_type": "code",
      "execution_count": null,
      "id": "f87fc7b8",
      "metadata": {
        "id": "f87fc7b8"
      },
      "outputs": [],
      "source": [
        "#수치 미분을 이용하여 loss function의 최소값을 찾는다 \n",
        "def train(X,Y,model, lr):\n",
        "    dw0=0.0\n",
        "    dw1=0.0\n",
        "    db=0.0\n",
        "    m=len(X)\n",
        "    cost=0.0\n",
        "    for x,y in zip(X,Y):\n",
        "        a=model.predict(x)\n",
        "        if y==1:\n",
        "            cost-=log(a)\n",
        "        else:\n",
        "            cost-=log(1-a)\n",
        "\n",
        "        dw0+=(a-y)*x[0]\n",
        "        dw1+=(a-y)*x[1]\n",
        "        db+=(a-y)\n",
        "    cost/=m\n",
        "    model.w[0]-=lr*dw0/m\n",
        "    model.w[1]-=lr*dw1/m\n",
        "    model.b-=lr*db/m\n",
        "    \n",
        "    return cost"
      ]
    },
    {
      "cell_type": "code",
      "execution_count": null,
      "id": "e09f8ce3",
      "metadata": {
        "id": "e09f8ce3"
      },
      "outputs": [],
      "source": [
        "#loss값을 각 리스트에 추가\n",
        "AND_loss_1=[]\n",
        "AND_loss_2=[]\n",
        "AND_loss_3=[]\n",
        "for epoch in range(10000):\n",
        "        #learning rate 0.1\n",
        "        AND_loss_1.append(train(X,Y,AND_model_1,0.1))\n",
        "        #learning rate 0.2\n",
        "        AND_loss_2.append(train(X,Y,AND_model_2,0.2))\n",
        "        #learning rate 0.01\n",
        "        AND_loss_3.append(train(X,Y,AND_model_3,0.01))\n",
        "\n",
        "#plot생성을 위해 epoch 값도 리스트로 정리\n",
        "epoch = [x for x in range(10000)]\n",
        "AND_loss_1=np.array(AND_loss_1)\n",
        "AND_loss_2=np.array(AND_loss_2)\n",
        "AND_loss_3=np.array(AND_loss_3)"
      ]
    },
    {
      "cell_type": "code",
      "execution_count": null,
      "id": "a58f09da",
      "metadata": {
        "id": "a58f09da",
        "outputId": "a1b57d7c-8c86-432a-afa9-901c0eef61ae"
      },
      "outputs": [
        {
          "name": "stdout",
          "output_type": "stream",
          "text": [
            "1.260291212752459e-05\n",
            "0.020320267435816143\n",
            "0.02032027018567165\n",
            "0.9715392665474318\n"
          ]
        }
      ],
      "source": [
        "#learning rate 0.1예측결과\n",
        "print(AND_model_1.predict((0,0)))\n",
        "print(AND_model_1.predict((0,1)))\n",
        "print(AND_model_1.predict((1,0)))\n",
        "print(AND_model_1.predict((1,1)))"
      ]
    },
    {
      "cell_type": "code",
      "execution_count": null,
      "id": "45c80915",
      "metadata": {
        "id": "45c80915",
        "outputId": "fbf7274c-8dc8-4c22-bf5e-86e2ab01b0eb"
      },
      "outputs": [
        {
          "name": "stdout",
          "output_type": "stream",
          "text": [
            "1.5113751212027097e-06\n",
            "0.010139968840429179\n",
            "0.010139968876148367\n",
            "0.9858016847061576\n"
          ]
        }
      ],
      "source": [
        "#learning rate 0.2예측결과\n",
        "print(AND_model_2.predict((0,0)))\n",
        "print(AND_model_2.predict((0,1)))\n",
        "print(AND_model_2.predict((1,0)))\n",
        "print(AND_model_2.predict((1,1)))"
      ]
    },
    {
      "cell_type": "code",
      "execution_count": null,
      "id": "8bfbbe9d",
      "metadata": {
        "id": "8bfbbe9d",
        "outputId": "9d680074-f25c-4547-9fae-ac196bc02f59"
      },
      "outputs": [
        {
          "name": "stdout",
          "output_type": "stream",
          "text": [
            "0.008488833405931253\n",
            "0.15061953537680425\n",
            "0.15008270856090372\n",
            "0.7852918764151121\n"
          ]
        }
      ],
      "source": [
        "#learning rate 0.01예측결과\n",
        "print(AND_model_3.predict((0,0)))\n",
        "print(AND_model_3.predict((0,1)))\n",
        "print(AND_model_3.predict((1,0)))\n",
        "print(AND_model_3.predict((1,1)))"
      ]
    },
    {
      "cell_type": "code",
      "execution_count": null,
      "id": "2b846e23",
      "metadata": {
        "id": "2b846e23",
        "outputId": "371fe0a2-3501-45ad-d94d-d04045978b21"
      },
      "outputs": [
        {
          "data": {
            "image/png": "[encoded data removed]",
            "text/plain": [
              "<Figure size 432x288 with 1 Axes>"
            ]
          },
          "metadata": {
            "needs_background": "light"
          },
          "output_type": "display_data"
        }
      ],
      "source": [
        "#loss plot \n",
        "plt.plot(epoch,AND_loss_1,'r-',label='lr=0.1')\n",
        "plt.plot(epoch,AND_loss_2,'b-',label='lr=0.2')\n",
        "plt.plot(epoch,AND_loss_3,'g-',label='lr=0.01')\n",
        "plt.xlabel('epoch')\n",
        "plt.ylabel('loss')\n",
        "plt.legend(loc='upper right')\n",
        "plt.show()"
      ]
    },
    {
      "cell_type": "code",
      "execution_count": null,
      "id": "1bc5889d",
      "metadata": {
        "id": "1bc5889d"
      },
      "outputs": [],
      "source": []
    }
  ],
  "metadata": {
    "kernelspec": {
      "display_name": "Python 3 (ipykernel)",
      "language": "python",
      "name": "python3"
    },
    "language_info": {
      "codemirror_mode": {
        "name": "ipython",
        "version": 3
      },
      "file_extension": ".py",
      "mimetype": "text/x-python",
      "name": "python",
      "nbconvert_exporter": "python",
      "pygments_lexer": "ipython3",
      "version": "3.7.13"
    },
    "colab": {
      "provenance": []
    }
  },
  "nbformat": 4,
  "nbformat_minor": 5
}