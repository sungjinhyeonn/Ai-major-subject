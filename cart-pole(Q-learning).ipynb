{
  "cells": [
    {
      "cell_type": "markdown",
      "metadata": {
        "id": "9TBISAVWmfWp"
      },
      "source": [
        "# Solving Cart-Pole problem: Q-Learning"
      ]
    },
    {
      "cell_type": "markdown",
      "metadata": {
        "id": "aLHI0q_CmfWu"
      },
      "source": [
        "# 1. Initializing environment Q-table"
      ]
    },
    {
      "cell_type": "code",
      "execution_count": null,
      "metadata": {
        "id": "oUY43oiGmfWu"
      },
      "outputs": [],
      "source": [
        "from IPython.display import clear_output \n",
        "import matplotlib.pyplot as plt\n",
        "import numpy as np\n",
        "import gym\n",
        "import math\n",
        "import random\n",
        "# Initialize environment\n",
        "\n",
        "env = gym.make('CartPole-v1')\n",
        "# Number of discrete states (bucket) per state\n",
        "NUM_BUCKETS = (3, 3, 6, 6)  # (position, velocity, angle, angular velocity)\n",
        "# Number of discrete actions. in our case, there are only two possible actions: left, and right\n",
        "NUM_ACTIONS = env.action_space.n\n",
        "# Setting bounds for each discrete state. \n",
        "STATE_BOUNDS = list(zip(env.observation_space.low, env.observation_space.high))#state bound of Cart Position, Cart Velocity\n",
        "STATE_BOUNDS[1] = [-0.5, 0.5]#maximum velocity of the cart\n",
        "STATE_BOUNDS[3] = [-math.radians(50), math.radians(50)]#maximum angular velocity of the cart\n",
        "## Creating a Q-Table for each state-action pair\n",
        "q_table = np.zeros(NUM_BUCKETS + (NUM_ACTIONS,))"
      ]
    },
    {
      "cell_type": "code",
      "execution_count": null,
      "metadata": {
        "id": "hLxCtM3NmfWv",
        "outputId": "d2abdbff-c9d3-4e69-84e4-78ac3ce986dd"
      },
      "outputs": [
        {
          "name": "stdout",
          "output_type": "stream",
          "text": [
            "Collecting gym==0.21.0\n",
            "  Downloading gym-0.21.0.tar.gz (1.5 MB)\n",
            "\u001b[2K     \u001b[38;2;114;156;31m━━━━━━━━━━━━━━━━━━━━━━━━━━━━━━━━━━━━━━━━\u001b[0m \u001b[32m1.5/1.5 MB\u001b[0m \u001b[31m5.0 MB/s\u001b[0m eta \u001b[36m0:00:00\u001b[0mm eta \u001b[36m0:00:01\u001b[0m0:01\u001b[0m:01\u001b[0m\n",
            "\u001b[?25h  Preparing metadata (setup.py) ... \u001b[?25ldone\n",
            "\u001b[?25hRequirement already satisfied: numpy>=1.18.0 in /Users/seongjinhyeon/opt/anaconda3/envs/HYAI/lib/python3.7/site-packages (from gym==0.21.0) (1.21.5)\n",
            "Requirement already satisfied: cloudpickle>=1.2.0 in /Users/seongjinhyeon/opt/anaconda3/envs/HYAI/lib/python3.7/site-packages (from gym==0.21.0) (2.2.0)\n",
            "Requirement already satisfied: importlib_metadata>=4.8.1 in /Users/seongjinhyeon/opt/anaconda3/envs/HYAI/lib/python3.7/site-packages (from gym==0.21.0) (4.11.3)\n",
            "Requirement already satisfied: typing-extensions>=3.6.4 in /Users/seongjinhyeon/opt/anaconda3/envs/HYAI/lib/python3.7/site-packages (from importlib_metadata>=4.8.1->gym==0.21.0) (4.3.0)\n",
            "Requirement already satisfied: zipp>=0.5 in /Users/seongjinhyeon/opt/anaconda3/envs/HYAI/lib/python3.7/site-packages (from importlib_metadata>=4.8.1->gym==0.21.0) (3.8.0)\n",
            "Building wheels for collected packages: gym\n",
            "  Building wheel for gym (setup.py) ... \u001b[?25ldone\n",
            "\u001b[?25h  Created wheel for gym: filename=gym-0.21.0-py3-none-any.whl size=1616799 sha256=df9649d949092136f2dfe88188134754985d21f9aa6d99f557a827a7aa6a7a21\n",
            "  Stored in directory: /Users/seongjinhyeon/Library/Caches/pip/wheels/76/ee/9c/36bfe3e079df99acf5ae57f4e3464ff2771b34447d6d2f2148\n",
            "Successfully built gym\n",
            "Installing collected packages: gym\n",
            "  Attempting uninstall: gym\n",
            "    Found existing installation: gym 0.26.2\n",
            "    Uninstalling gym-0.26.2:\n",
            "      Successfully uninstalled gym-0.26.2\n",
            "Successfully installed gym-0.21.0\n",
            "Note: you may need to restart the kernel to use updated packages.\n"
          ]
        }
      ],
      "source": [
        "pip install gym==0.21.0"
      ]
    },
    {
      "cell_type": "code",
      "execution_count": null,
      "metadata": {
        "id": "Okbj8m03mfWv",
        "outputId": "6051f567-92e3-4a9a-d9f8-1112e9c0c771"
      },
      "outputs": [
        {
          "ename": "NameError",
          "evalue": "name 'python' is not defined",
          "output_type": "error",
          "traceback": [
            "\u001b[0;31m---------------------------------------------------------------------------\u001b[0m",
            "\u001b[0;31mNameError\u001b[0m                                 Traceback (most recent call last)",
            "\u001b[0;32m/var/folders/xb/wz53mlcj03x4mkf4x1yk10rh0000gn/T/ipykernel_85608/388333897.py\u001b[0m in \u001b[0;36m<module>\u001b[0;34m\u001b[0m\n\u001b[0;32m----> 1\u001b[0;31m \u001b[0mpython\u001b[0m\u001b[0;34m\u001b[0m\u001b[0;34m\u001b[0m\u001b[0m\n\u001b[0m",
            "\u001b[0;31mNameError\u001b[0m: name 'python' is not defined"
          ]
        }
      ],
      "source": [
        "python"
      ]
    },
    {
      "cell_type": "code",
      "execution_count": null,
      "metadata": {
        "id": "CunEw4ecmfWv",
        "outputId": "0a465f95-4423-457a-daea-854658824d2c"
      },
      "outputs": [
        {
          "data": {
            "text/plain": [
              "'0.21.0'"
            ]
          },
          "execution_count": 4,
          "metadata": {},
          "output_type": "execute_result"
        }
      ],
      "source": [
        "gym.__version__"
      ]
    },
    {
      "cell_type": "markdown",
      "metadata": {
        "id": "ZEBd9zt4mfWv"
      },
      "source": [
        "# 2. Defining training related constants\n"
      ]
    },
    {
      "cell_type": "code",
      "execution_count": null,
      "metadata": {
        "id": "iyNQmom9mfWw"
      },
      "outputs": [],
      "source": [
        "## Learning related constants\n",
        "MIN_EXPLORE_RATE = 0.01\n",
        "MIN_LEARNING_RATE = 0.1\n",
        "\n",
        "## Defining the simulation related constants\n",
        "NUM_EPISODES = 10000\n",
        "MAX_TIMESTEP = 250 # maximum possible timestep\n",
        "SOLVED_TIMESTEP = 199# the episode is considered as solved if t > 199\n",
        "STREAK_TO_END = 120 #the problem is considered as solved if the streak >120"
      ]
    },
    {
      "cell_type": "markdown",
      "metadata": {
        "id": "PkKE-fw6mfWw"
      },
      "source": [
        "# 3. Decaying explore_rate and learning_rate implementation\n",
        "explore rate is the probability of taking random action\n",
        "\n",
        "learning rate determines the update speed of the q-value on the q-table\n",
        "\n",
        "with the functions below, both rate start as very high, then decay gradually as the episode goes"
      ]
    },
    {
      "cell_type": "code",
      "execution_count": null,
      "metadata": {
        "id": "a1yv8G7AmfWw"
      },
      "outputs": [],
      "source": [
        "DECAY = 25\n",
        "def get_explore_rate(episode):\n",
        "    if episode >= DECAY-1:\n",
        "        return max(MIN_EXPLORE_RATE, min(1, 1.0 - math.log10((episode+1)/DECAY)))\n",
        "    else:\n",
        "        return 1.0\n",
        "\n",
        "def get_learning_rate(episode):\n",
        "    if episode >= DECAY-1:\n",
        "         return max(MIN_LEARNING_RATE, min(0.5, 1.0 - math.log10((episode+1)/DECAY)))\n",
        "    else:\n",
        "         return 1.0"
      ]
    },
    {
      "cell_type": "markdown",
      "metadata": {
        "id": "kIKHAbuAmfWw"
      },
      "source": [
        "# 4. Bucketing function\n",
        "This function receives a continuous state as an input and then returns a discrete state as an output."
      ]
    },
    {
      "cell_type": "code",
      "execution_count": null,
      "metadata": {
        "id": "71TkeYrumfWw"
      },
      "outputs": [],
      "source": [
        "def state_to_bucket(state):\n",
        "    bucket_indice = []\n",
        "    for i in range(len(state)):\n",
        "        max_bucket = NUM_BUCKETS[i] - 1\n",
        "        minimum = STATE_BOUNDS[i][0]\n",
        "        maximum = STATE_BOUNDS[i][1]\n",
        "        state_value = state[i]\n",
        "        if state_value <= minimum:\n",
        "            bucket_index = 0\n",
        "        elif state_value >= maximum:\n",
        "            bucket_index = max_bucket\n",
        "        else:\n",
        "            # Mapping the state bounds to the bucket array. bucket_index*(min-max normalized state)\n",
        "            bound_width = maximum - minimum\n",
        "            bucket_index = int(round(max_bucket*(state_value - minimum)/bound_width))\n",
        "        bucket_indice.append(bucket_index)\n",
        "    return tuple(bucket_indice)"
      ]
    },
    {
      "cell_type": "markdown",
      "metadata": {
        "id": "942ifYHBmfWw"
      },
      "source": [
        "# 5. The Simulation code.\n",
        "The simulate() function runs the cartpole environment, recieve state and reward, take action, then repeats\n",
        "\n",
        "\n"
      ]
    },
    {
      "cell_type": "code",
      "execution_count": null,
      "metadata": {
        "id": "8joM5iD0mfWw"
      },
      "outputs": [],
      "source": [
        "def simulate():\n",
        "    ## Instantiating the learning related parameters\n",
        "    learning_rate = get_learning_rate(0)\n",
        "    explore_rate = get_explore_rate(0)\n",
        "    discount_factor = 0.99  # since the world is unchanging\n",
        "    rewards = list()\n",
        "    num_streaks = 0\n",
        "    global q_table\n",
        "    for episode in range(NUM_EPISODES):\n",
        "\n",
        "        # Reset the environment\n",
        "        obv = env.reset()\n",
        "\n",
        "        # the initial state\n",
        "        state_0 = state_to_bucket(obv)\n",
        "\n",
        "        for t in range(MAX_TIMESTEP):\n",
        "            env.render(mode='ansi')\n",
        "\n",
        "            # Select an action\n",
        "            action = select_action(state_0, explore_rate)\n",
        "\n",
        "            # Execute the action then take the results.observation, reward, done, info\n",
        "            obv, reward, done, _ = env.step(action)\n",
        "\n",
        "            # Observe the result\n",
        "            state = state_to_bucket(obv)\n",
        "            \n",
        "            best_q = np.amax(q_table[state])\n",
        "            q_table[state_0 + (action,)] += learning_rate*(reward + discount_factor*(best_q) - q_table[state_0 + (action,)])\n",
        "            \n",
        "            '''\n",
        "            ************************************\n",
        "            TODO: Update the q-table\n",
        "            ************************************\n",
        "            '''\n",
        "            \n",
        "            # Setting up for the next iteration\n",
        "            state_0 = state\n",
        "            \n",
        "            #done: the cart failed to maintain balance\n",
        "            if done:\n",
        "                break\n",
        "\n",
        "        X=np.arange(0,episode+1)\n",
        "        rewards.append(t)\n",
        "        Y=rewards\n",
        "        clear_output()\n",
        "        plt.plot(X,Y)\n",
        "        plt.xlabel('episodes')\n",
        "        plt.ylabel('reward')\n",
        "        plt.show()\n",
        "        print(\"Episode %d finished after %f time steps. Streak: %d\" % (episode, t, num_streaks))\n",
        "\n",
        "        #The episode is considered as a success if timestep >SOLVED_TIMESTEP \n",
        "        if (t >= SOLVED_TIMESTEP):\n",
        "            num_streaks += 1\n",
        "        else:\n",
        "            num_streaks = 0\n",
        "            \n",
        "        #  when the agent 'solves' the environment: steak over 120 times consecutively\n",
        "        if num_streaks > STREAK_TO_END:\n",
        "            print(\"The Environment is solved\")\n",
        "            break\n",
        "\n",
        "        # Update parameters\n",
        "        explore_rate = get_explore_rate(episode)\n",
        "        learning_rate = get_learning_rate(episode)\n",
        "    env.close()#closes window\n",
        "\n",
        "\n",
        "def select_action(state, explore_rate):\n",
        "    # Select a random action\n",
        "    if random.random() < explore_rate:\n",
        "        action = env.action_space.sample()\n",
        "    # Select the action with the highest q\n",
        "    else:\n",
        "        action = np.argmax(q_table[state])\n",
        "    return action\n"
      ]
    },
    {
      "cell_type": "code",
      "execution_count": null,
      "metadata": {
        "id": "2RvFTpo9mfWx",
        "outputId": "1268b782-70e9-4718-8842-16f35180b689"
      },
      "outputs": [
        {
          "data": {
            "image/png": "[encoded data removed]",
            "text/plain": [
              "<Figure size 432x288 with 1 Axes>"
            ]
          },
          "metadata": {
            "needs_background": "light"
          },
          "output_type": "display_data"
        },
        {
          "name": "stdout",
          "output_type": "stream",
          "text": [
            "Episode 500 finished after 249.000000 time steps. Streak: 120\n",
            "The Environment is solved\n"
          ]
        }
      ],
      "source": [
        "simulate()"
      ]
    },
    {
      "cell_type": "code",
      "execution_count": null,
      "metadata": {
        "id": "IDikM4PomfWx"
      },
      "outputs": [],
      "source": []
    }
  ],
  "metadata": {
    "kernelspec": {
      "display_name": "Python 3 (ipykernel)",
      "language": "python",
      "name": "python3"
    },
    "language_info": {
      "codemirror_mode": {
        "name": "ipython",
        "version": 3
      },
      "file_extension": ".py",
      "mimetype": "text/x-python",
      "name": "python",
      "nbconvert_exporter": "python",
      "pygments_lexer": "ipython3",
      "version": "3.7.13"
    },
    "vscode": {
      "interpreter": {
        "hash": "49c3972abc1190618bfa8d678b1d8bc740caa92c9e239afc53edacbd460b1472"
      }
    },
    "colab": {
      "provenance": []
    }
  },
  "nbformat": 4,
  "nbformat_minor": 0
}